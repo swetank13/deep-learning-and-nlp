{
 "cells": [
  {
   "cell_type": "markdown",
   "id": "2413a320-2135-4c45-b885-f4cc12d5c003",
   "metadata": {},
   "source": [
    "#### Deep learning Udemy\n",
    "- Slide Details: https://online.fliphtml5.com/grdgl/tooj/index.html#p=9\n",
    "- Code Details: https://drive.google.com/drive/folders/1BoyXFtKvNuOMRRQPbDcNx_S0QNqsFJqd\n",
    "- Course Site: https://www.superdatascience.com/deep-learning"
   ]
  },
  {
   "cell_type": "markdown",
   "id": "63b33f57-7390-48ca-859e-47d75e6fb8e5",
   "metadata": {},
   "source": [
    "#### Workshop Details\n",
    "- Time Series Analysis for E-Commerce on Amazon Forecast, from scratch!\n",
    "  - https://www.youtube.com/watch?v=WRC-iLBkgPE\n",
    "- Build two Recommender Systems with AWS: For E-Commerce and Movie Recommendation!\n",
    "  - https://www.youtube.com/watch?v=GoEXDvgScM0\n",
    "- Build a Machine Learning Pipeline on AWS Lambda, from scratch!\n",
    "  - https://www.youtube.com/watch?v=mo4F45DGmXs\n",
    "- Build a Self-Driving Car in a 3D virtual environment, from scratch!\n",
    "  - https://www.youtube.com/watch?v=40j-t9W_Hvw\n",
    "- Build, Train and Tune two Machine Learning models on SageMaker Canvas, from scratch!\n",
    "  - https://www.youtube.com/watch?v=GpzNOxUV9A0\n",
    "- Build Train and Tune a SOTA Machine Learning model on Amazon EC2, from scratch!\n",
    "  - https://www.youtube.com/watch?v=VEsrknFt6o0\n",
    "- Create Your Custom LLM with Amazon Bedrock, Databricks, and Hugging Face!\n",
    "  - https://www.youtube.com/watch?v=mW-3f4yUr3E\n",
    "- Create a ChatBot App That SPEAKS LIKE YODA in 5 Minutes!\n",
    "  - https://www.youtube.com/watch?v=i2o5wBSjAr0\n",
    "- Build a RAG-powered Generative AI application with Amazon Bedrock and Knowledge Bases!\n",
    "  - https://www.youtube.com/watch?v=jYQZefzAFuI\n",
    "- Build a Cloud-powered AI Agent for Business Assistance with Amazon Bedrock!\n",
    "  - https://www.youtube.com/watch?v=jYQZefzAFuI"
   ]
  },
  {
   "cell_type": "code",
   "execution_count": null,
   "id": "298d3b6c-46cb-48b6-b330-e6a8ea5bb0cc",
   "metadata": {},
   "outputs": [],
   "source": []
  }
 ],
 "metadata": {
  "kernelspec": {
   "display_name": "Python 3 (ipykernel)",
   "language": "python",
   "name": "python3"
  },
  "language_info": {
   "codemirror_mode": {
    "name": "ipython",
    "version": 3
   },
   "file_extension": ".py",
   "mimetype": "text/x-python",
   "name": "python",
   "nbconvert_exporter": "python",
   "pygments_lexer": "ipython3",
   "version": "3.10.11"
  }
 },
 "nbformat": 4,
 "nbformat_minor": 5
}
